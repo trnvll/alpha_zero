{
 "cells": [
  {
   "cell_type": "code",
   "execution_count": 4,
   "id": "initial_id",
   "metadata": {
    "collapsed": true,
    "ExecuteTime": {
     "end_time": "2024-02-25T15:00:36.966013Z",
     "start_time": "2024-02-25T15:00:36.893238Z"
    }
   },
   "outputs": [],
   "source": [
    "import numpy as np"
   ]
  },
  {
   "cell_type": "code",
   "outputs": [],
   "source": [
    "class TicTacToe:\n",
    "    def __init__(self):\n",
    "        self.row_count = 3\n",
    "        self.column_count = 3\n",
    "        self.action_size = self.row_count * self.column_count\n",
    "        \n",
    "    def get_initial_state(self):\n",
    "        return np.zeros((self.row_count, self.column_count))\n",
    "    \n",
    "    def get_next_state(self, state, action, player):\n",
    "        row = action // self.column_count\n",
    "        col = action % self.column_count\n",
    "        state[row, col] = player\n",
    "        return state\n",
    "    \n",
    "    def get_valid_moves(self, state):\n",
    "        return (state.reshape(-1) == 0).astype(np.uint8)\n",
    "    \n",
    "    def check_win(self, state, action):\n",
    "        row = action // self.column_count\n",
    "        col = action % self.column_count\n",
    "        player = state[row, col]\n",
    "        \n",
    "        connect = player * self.column_count # we'll just use column_count here for all instead of row_count as it is the same\n",
    "        \n",
    "        return (\n",
    "            np.sum(state[row, :]) == connect\n",
    "            or np.sum(state[:, col]) == connect\n",
    "            or np.sum(np.diag(state)) == connect\n",
    "            or np.sum(np.diag(np.flip(state, axis=0))) == connect\n",
    "        )\n",
    "    \n",
    "    def get_value_and_terminated(self, state, action):\n",
    "        if self.check_win(state, action):\n",
    "            return 1, True\n",
    "        if np.sum(self.get_valid_moves(state)) == 0:\n",
    "            return 0, True\n",
    "        return 0, False\n",
    "    \n",
    "    def get_opponent(self, player):\n",
    "        return -player\n",
    "            "
   ],
   "metadata": {
    "collapsed": false,
    "ExecuteTime": {
     "end_time": "2024-02-25T15:00:42.518586Z",
     "start_time": "2024-02-25T15:00:42.512764Z"
    }
   },
   "id": "f056293d44b00f60",
   "execution_count": 5
  },
  {
   "cell_type": "code",
   "outputs": [
    {
     "name": "stdout",
     "output_type": "stream",
     "text": [
      "[[0. 0. 0.]\n",
      " [0. 0. 0.]\n",
      " [0. 0. 0.]]\n",
      "valid_moves [0, 1, 2, 3, 4, 5, 6, 7, 8]\n",
      "[[0. 1. 0.]\n",
      " [0. 0. 0.]\n",
      " [0. 0. 0.]]\n",
      "valid_moves [0, 2, 3, 4, 5, 6, 7, 8]\n",
      "[[-1.  1.  0.]\n",
      " [ 0.  0.  0.]\n",
      " [ 0.  0.  0.]]\n",
      "valid_moves [2, 3, 4, 5, 6, 7, 8]\n",
      "[[-1.  1.  0.]\n",
      " [ 1.  0.  0.]\n",
      " [ 0.  0.  0.]]\n",
      "valid_moves [2, 4, 5, 6, 7, 8]\n",
      "[[-1.  1.  0.]\n",
      " [ 1. -1.  0.]\n",
      " [ 0.  0.  0.]]\n",
      "valid_moves [2, 5, 6, 7, 8]\n",
      "[[-1.  1.  0.]\n",
      " [ 1. -1.  1.]\n",
      " [ 0.  0.  0.]]\n",
      "valid_moves [2, 6, 7, 8]\n",
      "[[-1.  1.  0.]\n",
      " [ 1. -1.  1.]\n",
      " [-1.  0.  0.]]\n",
      "valid_moves [2, 7, 8]\n",
      "[[-1.  1.  0.]\n",
      " [ 1. -1.  1.]\n",
      " [-1.  1.  0.]]\n",
      "valid_moves [2, 8]\n",
      "[[-1.  1. -1.]\n",
      " [ 1. -1.  1.]\n",
      " [-1.  1.  0.]]\n",
      "-1 won\n"
     ]
    }
   ],
   "source": [
    "tictactoe = TicTacToe()\n",
    "player = 1\n",
    "\n",
    "state = tictactoe.get_initial_state()\n",
    "\n",
    "while True:\n",
    "    print(state)\n",
    "    valid_moves = tictactoe.get_valid_moves(state)\n",
    "    print(\"valid_moves\", [i for i in range(tictactoe.action_size) if valid_moves[i] == 1])\n",
    "    action = int(input(f\"{player}:\"))\n",
    "    \n",
    "    if not valid_moves[action]:\n",
    "        print(f\"action {action} not valid\")\n",
    "        continue\n",
    "    \n",
    "    state = tictactoe.get_next_state(state, action, player)\n",
    "    \n",
    "    value, is_terminal = tictactoe.get_value_and_terminated(state, action)\n",
    "    \n",
    "    if is_terminal:\n",
    "        print(state)\n",
    "        if value == 1:\n",
    "            print(player, \"won\")\n",
    "        else:\n",
    "            print(\"draw\")\n",
    "        break\n",
    "    \n",
    "    player = tictactoe.get_opponent(player)"
   ],
   "metadata": {
    "collapsed": false,
    "ExecuteTime": {
     "end_time": "2024-02-25T15:07:36.450726Z",
     "start_time": "2024-02-25T15:07:01.460956Z"
    }
   },
   "id": "1629eaf8f6b9b6a6",
   "execution_count": 11
  },
  {
   "cell_type": "code",
   "outputs": [],
   "source": [],
   "metadata": {
    "collapsed": false
   },
   "id": "87904402ddbb02dc"
  }
 ],
 "metadata": {
  "kernelspec": {
   "display_name": "Python 3",
   "language": "python",
   "name": "python3"
  },
  "language_info": {
   "codemirror_mode": {
    "name": "ipython",
    "version": 2
   },
   "file_extension": ".py",
   "mimetype": "text/x-python",
   "name": "python",
   "nbconvert_exporter": "python",
   "pygments_lexer": "ipython2",
   "version": "2.7.6"
  }
 },
 "nbformat": 4,
 "nbformat_minor": 5
}
